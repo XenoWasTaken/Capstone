{
 "cells": [
  {
   "attachments": {},
   "cell_type": "markdown",
   "metadata": {},
   "source": [
    "# This is where the model fitting data is created\n",
    "\n",
    "Process consists of:\n",
    "\n",
    "    Take folder of human voice samples\n",
    "\n",
    "    Take folder of ambient noise samples\n",
    "\n",
    "    Overlay the human voice onto the ambient noise samples\n",
    "\n",
    "    Save into folder of voice+ambient samples.  Names of files should amtch the ambient noise sample + some removable salt, in order to know what to use for refnoise later.\n",
    "\n",
    "    "
   ]
  },
  {
   "cell_type": "code",
   "execution_count": 1,
   "metadata": {},
   "outputs": [
    {
     "ename": "FileNotFoundError",
     "evalue": "[WinError 3] The system cannot find the path specified: '/voicehuman'",
     "output_type": "error",
     "traceback": [
      "\u001b[1;31m---------------------------------------------------------------------------\u001b[0m",
      "\u001b[1;31mFileNotFoundError\u001b[0m                         Traceback (most recent call last)",
      "\u001b[1;32mc:\\Users\\terra\\Desktop\\Classes\\Capstone\\Capstone\\dataCreation.ipynb Cell 2\u001b[0m in \u001b[0;36m<cell line: 9>\u001b[1;34m()\u001b[0m\n\u001b[0;32m      <a href='vscode-notebook-cell:/c%3A/Users/terra/Desktop/Classes/Capstone/Capstone/dataCreation.ipynb#W0sZmlsZQ%3D%3D?line=6'>7</a>\u001b[0m ambient_path \u001b[39m=\u001b[39m \u001b[39m\"\u001b[39m\u001b[39m/ambient\u001b[39m\u001b[39m\"\u001b[39m\n\u001b[0;32m      <a href='vscode-notebook-cell:/c%3A/Users/terra/Desktop/Classes/Capstone/Capstone/dataCreation.ipynb#W0sZmlsZQ%3D%3D?line=7'>8</a>\u001b[0m \u001b[39m# Get a list of all files in the directory\u001b[39;00m\n\u001b[1;32m----> <a href='vscode-notebook-cell:/c%3A/Users/terra/Desktop/Classes/Capstone/Capstone/dataCreation.ipynb#W0sZmlsZQ%3D%3D?line=8'>9</a>\u001b[0m voice_files \u001b[39m=\u001b[39m os\u001b[39m.\u001b[39;49mlistdir(voice_path)\n\u001b[0;32m     <a href='vscode-notebook-cell:/c%3A/Users/terra/Desktop/Classes/Capstone/Capstone/dataCreation.ipynb#W0sZmlsZQ%3D%3D?line=9'>10</a>\u001b[0m nonvoice_files \u001b[39m=\u001b[39m os\u001b[39m.\u001b[39mlistdir(nonvoice_path)\n\u001b[0;32m     <a href='vscode-notebook-cell:/c%3A/Users/terra/Desktop/Classes/Capstone/Capstone/dataCreation.ipynb#W0sZmlsZQ%3D%3D?line=10'>11</a>\u001b[0m ambient_files \u001b[39m=\u001b[39m os\u001b[39m.\u001b[39mlistdir(ambient_path)\n",
      "\u001b[1;31mFileNotFoundError\u001b[0m: [WinError 3] The system cannot find the path specified: '/voicehuman'"
     ]
    }
   ],
   "source": [
    "from pydub import AudioSegment\n",
    "import os\n",
    "import random\n",
    "# Set the paths\n",
    "voice_path = \"voicehuman\"\n",
    "nonvoice_path = \"nonvoicehuman\"\n",
    "ambient_path = \"ambient\"\n",
    "# Get a list of all files in the directory\n",
    "voice_files = os.listdir(voice_path)\n",
    "nonvoice_files = os.listdir(nonvoice_path)\n",
    "ambient_files = os.listdir(ambient_path)\n",
    "\n",
    "for voicesound in voice_files:\n",
    "    #pick a random ambient to layer over\n",
    "    ambientsound = random.choice(ambient_files)\n",
    "    # Load the audio files\n",
    "    audio1 = AudioSegment.from_mp3(\"/voicehuman/\"+voicesound)\n",
    "    audio2 = AudioSegment.from_wav(\"/ambient/\"+ambientsound)\n",
    "    # Combine the audio files\n",
    "    combined_audio = audio1.overlay(audio2)\n",
    "    # Export the combined audio as a new wav file\n",
    "\n",
    "    # Set the output directory\n",
    "    output_dir = \"/layered\"\n",
    "\n",
    "    # Create the output directory if it doesn't exist\n",
    "    if not os.path.exists(output_dir):\n",
    "        os.makedirs(output_dir)\n",
    "\n",
    "    # Export the combined audio as a new wav file in the output directory\n",
    "    output_file = os.path.join(output_dir, ambientsound + \"_overlay.wav\")\n",
    "    combined_audio.export(output_file, format=\"wav\")\n",
    "    combined_audio.export(voicesound +\"___\"+ ambientsound + \"_overlay.wav\", format=\"wav\")\n",
    "\n",
    "for voicesound in voice_files:\n",
    "    #pick a random ambient to layer over\n",
    "    ambientsound = random.choice(ambient_files)\n",
    "    # Load the audio files\n",
    "    audio1 = AudioSegment.from_wav(\"/voicehuman/\"+voicesound)\n",
    "    audio2 = AudioSegment.from_wav(\"/ambient/\"+ambientsound)\n",
    "    # Combine the audio files\n",
    "    combined_audio = audio1.overlay(audio2)\n",
    "    # Export the combined audio as a new wav file\n",
    "\n",
    "    # Set the output directory\n",
    "    output_dir = \"/layered\"\n",
    "\n",
    "    # Create the output directory if it doesn't exist\n",
    "    if not os.path.exists(output_dir):\n",
    "        os.makedirs(output_dir)\n",
    "\n",
    "    # Set the export parameters\n",
    "    export_options = {\n",
    "        \"format\": \"wav\",\n",
    "        \"subtype\": \"FLOAT\",\n",
    "        \"sample_width\": 4,\n",
    "        \"channels\": 1,\n",
    "        \"frame_rate\": 44100\n",
    "    }\n",
    "\n",
    "    # Export the combined audio as a new wav file in the output directory\n",
    "    output_file = os.path.join(output_dir, ambientsound + \"_overlay.wav\")\n",
    "    combined_audio.export(voicesound +\"___\"+ ambientsound + \"_overlay.wav\", **export_options)"
   ]
  }
 ],
 "metadata": {
  "kernelspec": {
   "display_name": "Python 3",
   "language": "python",
   "name": "python3"
  },
  "language_info": {
   "codemirror_mode": {
    "name": "ipython",
    "version": 3
   },
   "file_extension": ".py",
   "mimetype": "text/x-python",
   "name": "python",
   "nbconvert_exporter": "python",
   "pygments_lexer": "ipython3",
   "version": "3.10.11"
  },
  "orig_nbformat": 4
 },
 "nbformat": 4,
 "nbformat_minor": 2
}
